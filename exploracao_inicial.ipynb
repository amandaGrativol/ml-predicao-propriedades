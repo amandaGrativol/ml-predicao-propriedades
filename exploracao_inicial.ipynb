{
 "cells": [
  {
   "cell_type": "markdown",
   "metadata": {},
   "source": [
    "# 🔬 Predição de Ponto de Fusão com Descritores Moleculares\n",
    "\n",
    "Este notebook aplica aprendizado de máquina para prever ponto de fusão a partir de estruturas moleculares representadas em SMILES."
   ]
  },
  {
   "cell_type": "code",
   "execution_count": null,
   "metadata": {},
   "outputs": [],
   "source": [
    "import pandas as pd\n",
    "import numpy as np\n",
    "import matplotlib.pyplot as plt\n",
    "import seaborn as sns\n",
    "from sklearn.model_selection import train_test_split\n",
    "from sklearn.ensemble import RandomForestRegressor\n",
    "from sklearn.metrics import mean_squared_error, r2_score\n",
    "from rdkit import Chem\n",
    "from rdkit.Chem import Descriptors"
   ]
  },
  {
   "cell_type": "code",
   "execution_count": null,
   "metadata": {},
   "outputs": [],
   "source": [
    "# Carregar dataset de exemplo\n",
    "df = pd.read_csv(\"../data/exemplo_dataset.csv\")\n",
    "df"
   ]
  },
  {
   "cell_type": "code",
   "execution_count": null,
   "metadata": {},
   "outputs": [],
   "source": [
    "# Função para gerar descritores\n",
    "def gerar_descritores(smiles_list):\n",
    "    descritores = []\n",
    "    for smi in smiles_list:\n",
    "        mol = Chem.MolFromSmiles(smi)\n",
    "        if mol:\n",
    "            desc = {\n",
    "                'MolWt': Descriptors.MolWt(mol),\n",
    "                'MolLogP': Descriptors.MolLogP(mol),\n",
    "                'NumRotatableBonds': Descriptors.NumRotatableBonds(mol),\n",
    "                'TPSA': Descriptors.TPSA(mol),\n",
    "                'NumHDonors': Descriptors.NumHDonors(mol),\n",
    "                'NumHAcceptors': Descriptors.NumHAcceptors(mol)\n",
    "            }\n",
    "            descritores.append(desc)\n",
    "        else:\n",
    "            descritores.append(None)\n",
    "    return pd.DataFrame([d for d in descritores if d is not None])\n",
    "\n",
    "X = gerar_descritores(df['SMILES'])\n",
    "y = df.loc[X.index, 'Ponto_Fusao']"
   ]
  },
  {
   "cell_type": "markdown",
   "metadata": {},
   "source": [
    "## 🔍 Análise Exploratória"
   ]
  },
  {
   "cell_type": "code",
   "execution_count": null,
   "metadata": {},
   "outputs": [],
   "source": [
    "sns.pairplot(pd.concat([X, y], axis=1))\n",
    "plt.suptitle(\"Distribuição dos Descritores e Ponto de Fusão\", y=1.02)\n",
    "plt.show()"
   ]
  },
  {
   "cell_type": "markdown",
   "metadata": {},
   "source": [
    "## 🤖 Treinamento do Modelo"
   ]
  },
  {
   "cell_type": "code",
   "execution_count": null,
   "metadata": {},
   "outputs": [],
   "source": [
    "X_train, X_test, y_train, y_test = train_test_split(X, y, test_size=0.3, random_state=42)\n",
    "modelo = RandomForestRegressor(n_estimators=100, random_state=42)\n",
    "modelo.fit(X_train, y_train)\n",
    "y_pred = modelo.predict(X_test)"
   ]
  },
  {
   "cell_type": "code",
   "execution_count": null,
   "metadata": {},
   "outputs": [],
   "source": [
    "rmse = np.sqrt(mean_squared_error(y_test, y_pred))\n",
    "r2 = r2_score(y_test, y_pred)\n",
    "print(f\"RMSE: {rmse:.2f}\")\n",
    "print(f\"R²: {r2:.2f}\")"
   ]
  },
  {
   "cell_type": "markdown",
   "metadata": {},
   "source": [
    "## 📊 Visualização dos Resultados"
   ]
  },
  {
   "cell_type": "code",
   "execution_count": null,
   "metadata": {},
   "outputs": [],
   "source": [
    "plt.figure(figsize=(6,6))\n",
    "plt.scatter(y_test, y_pred, color='blue')\n",
    "plt.plot([y.min(), y.max()], [y.min(), y.max()], '--r')\n",
    "plt.xlabel(\"Valor Real\")\n",
    "plt.ylabel(\"Valor Predito\")\n",
    "plt.title(\"Predição de Ponto de Fusão\")\n",
    "plt.grid(True)\n",
    "plt.show()"
   ]
  }
 ],
 "metadata": {
  "kernelspec": {
   "display_name": "Python 3",
   "language": "python",
   "name": "python3"
  },
  "language_info": {
   "name": "python",
   "version": ""
  }
 },
 "nbformat": 4,
 "nbformat_minor": 5
}
